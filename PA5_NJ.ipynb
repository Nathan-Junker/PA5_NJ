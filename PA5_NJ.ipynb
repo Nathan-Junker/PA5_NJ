{
 "cells": [
  {
   "cell_type": "markdown",
   "id": "235578fc",
   "metadata": {},
   "source": [
    "# PA5, Nathan Junker, Version 1, CS 150-01"
   ]
  },
  {
   "cell_type": "code",
   "execution_count": 131,
   "id": "f54dc83e",
   "metadata": {},
   "outputs": [
    {
     "name": "stdout",
     "output_type": "stream",
     "text": [
      "Enter the length of side A: \n",
      "Enter the length of side B: \n",
      "Enter the length of side C: \n",
      "The area of the triangle is 0.4330 square units.\n",
      "The perimeter of the triangle is 3 units.\n"
     ]
    }
   ],
   "source": [
    "## a+b>c and a+c>b and b+c>a must all be true for the side lengths to make a triangle\n",
    "\n",
    "a=input(\"Enter the length of side A: \")\n",
    "b=input(\"Enter the length of side B: \")\n",
    "c=input(\"Enter the length of side C: \")\n",
    "\n",
    "def calcPerimeter(x=1,y=1,z=1): \n",
    "    if a != \"\":\n",
    "        x=int(a)\n",
    "    if b!=\"\":\n",
    "        y= int(b)\n",
    "    if c != \"\":\n",
    "        z=int(c)\n",
    "    \n",
    "    print(\"The perimeter of the triangle is\",x+y+z, \"units.\")\n",
    "def calcArea(x=1,y=1,z=1):\n",
    "    if a != \"\":\n",
    "        x=int(a)\n",
    "    if b!=\"\":\n",
    "        y= int(b)\n",
    "    if c != \"\":\n",
    "        z=int(c)\n",
    "        \n",
    "    s= (x+y+z)/2 #semiperimeter\n",
    "    area = (s*(s-x)*(s-y)*(s-z))**(1/2)\n",
    "    print(f\"The area of the triangle is {area:.4f} square units.\")\n",
    "\n",
    "calcArea()\n",
    "calcPerimeter()\n",
    "\n",
    "    \n",
    "    "
   ]
  },
  {
   "cell_type": "code",
   "execution_count": 122,
   "id": "639ec3fd",
   "metadata": {},
   "outputs": [
    {
     "name": "stdout",
     "output_type": "stream",
     "text": [
      "Enter your a guess between 1 and 1000: 710\n",
      "Too high! Try again\n",
      "Enter your a guess between 1 and 1000: 500\n",
      "Too low! Try again\n",
      "Enter your a guess between 1 and 1000: 600\n",
      "Too high! Try again\n",
      "Enter your a guess between 1 and 1000: 550\n",
      "Too high! Try again\n",
      "Enter your a guess between 1 and 1000: 525\n",
      "Too high! Try again\n",
      "Enter your a guess between 1 and 1000: 515\n",
      "Too high! Try again\n",
      "Enter your a guess between 1 and 1000: 507\n",
      "Too high! Try again\n",
      "Enter your a guess between 1 and 1000: 503\n",
      "Too low! Try again\n",
      "Enter your a guess between 1 and 1000: 505\n",
      "Correct\n"
     ]
    }
   ],
   "source": [
    "import random\n",
    "def evaluateGuess():\n",
    "    randomnumber= random.randint(1,1000)\n",
    "    guessed_number=2000\n",
    "    while guessed_number!= randomnumber:\n",
    "        guessed_number= int(input(\"Enter your a guess between 1 and 1000: \"))\n",
    "        if guessed_number > randomnumber:\n",
    "            print(\"Too high! Try again\")\n",
    "        elif guessed_number < randomnumber:\n",
    "            print(\"Too low! Try again\")\n",
    "        else:\n",
    "            print(\"Correct\")\n",
    "    \n",
    "evaluateGuess()"
   ]
  },
  {
   "cell_type": "code",
   "execution_count": 129,
   "id": "84367294",
   "metadata": {},
   "outputs": [],
   "source": [
    "def meanTemp(*args):\n",
    "    print(f\"The average temperature for the last {len(args)} days is {(sum(args)/len(args)):.2f} degrees F.\")"
   ]
  },
  {
   "cell_type": "code",
   "execution_count": 128,
   "id": "c6ce0792",
   "metadata": {},
   "outputs": [
    {
     "name": "stdout",
     "output_type": "stream",
     "text": [
      "The average temperature for the last 6 day(s) is 62.67.\n"
     ]
    }
   ],
   "source": [
    "meanTemp(70,40,56,74,69,67)"
   ]
  },
  {
   "cell_type": "code",
   "execution_count": 130,
   "id": "8a826633",
   "metadata": {},
   "outputs": [
    {
     "name": "stdout",
     "output_type": "stream",
     "text": [
      "The average temperature for the last 7 days is 87.00 degrees F.\n"
     ]
    }
   ],
   "source": [
    "meanTemp(90,89,83,85,88,88,86)"
   ]
  }
 ],
 "metadata": {
  "kernelspec": {
   "display_name": "Python 3 (ipykernel)",
   "language": "python",
   "name": "python3"
  },
  "language_info": {
   "codemirror_mode": {
    "name": "ipython",
    "version": 3
   },
   "file_extension": ".py",
   "mimetype": "text/x-python",
   "name": "python",
   "nbconvert_exporter": "python",
   "pygments_lexer": "ipython3",
   "version": "3.9.12"
  }
 },
 "nbformat": 4,
 "nbformat_minor": 5
}
